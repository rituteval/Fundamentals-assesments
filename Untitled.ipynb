{
 "cells": [
  {
   "cell_type": "code",
   "execution_count": null,
   "metadata": {},
   "outputs": [],
   "source": [
    "What is format of Data tips:\n",
    "    A data frame with 244 observations on the following 8 variables.\n",
    "\n",
    "TipPercentage\n",
    "\n",
    "    a numeric vector, the tip written as a percentage (0-100) of the total bill\n",
    "Bill\n",
    "\n",
    "    a numeric vector, the bill amount (dollars)\n",
    "Tip\n",
    "\n",
    "    a numeric vector, the tip amount (dollars)\n",
    "Gender\n",
    "\n",
    "    a factor with levels Female Male, gender of the payer of the bill\n",
    "Smoker\n",
    "\n",
    "    a factor with levels No Yes, whether the party included smokers\n",
    "Weekday\n",
    "\n",
    "    a factor with levels Friday Saturday Sunday Thursday, day of the week\n",
    "Time\n",
    "\n",
    "    a factor with levels Day Night, rough time of day\n",
    "PartySize\n",
    "\n",
    "    a numeric vector, number of people in party\n"
   ]
  }
 ],
 "metadata": {
  "kernelspec": {
   "display_name": "Python 3",
   "language": "python",
   "name": "python3"
  },
  "language_info": {
   "codemirror_mode": {
    "name": "ipython",
    "version": 3
   },
   "file_extension": ".py",
   "mimetype": "text/x-python",
   "name": "python",
   "nbconvert_exporter": "python",
   "pygments_lexer": "ipython3",
   "version": "3.7.4"
  }
 },
 "nbformat": 4,
 "nbformat_minor": 2
}
