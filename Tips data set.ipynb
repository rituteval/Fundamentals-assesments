{
 "cells": [
  {
   "cell_type": "markdown",
   "metadata": {},
   "source": [
    "   # FDA-Tips Data Set-project\n",
    "\n",
    "\n",
    "Rita Valciukiene \n",
    "10/10/2019 \n",
    " \n",
    "# Objectives: \n",
    "\n",
    "- To analyse Tips Data Set.\n",
    "- To analyze the relationship between the variables within dataset,\n",
    "- Analyze the variables within the dataset. \n",
    "\n",
    "# Tools:\n",
    "\n",
    "- Use and work with Python 3.7. \n",
    "- Jupyter Notebook.\n",
    "- Use  Libraries:\n",
    "- Matplotlib \n",
    "Matplotlib is a Python 2D plotting library which produces publication quality figures in a variety of hardcopy formats and interactive environments across platforms. Matplotlib tries to make easy things easy and hard things possible. You can generate plots, histograms, power spectra, bar charts, errorcharts, scatterplots, etc., with just a few lines of code. For examples, see the sample plots and thumbnail gallery. https://matplotlib.org/index.html\n",
    "- Pandas \n",
    "Pandas is a Python package providing fast, flexible, and expressive data structures designed to make working with “relational” or “labeled” data both easy and intuitive. The two primary data structures of pandas, Series (1-dimensional) and DataFrame (2-dimensional), handle the vast majority of typical use cases in finance, statistics, social science, and many areas of engineering. http://pandas.pydata.org\n",
    "1rg/\n",
    "- Jupyter Notebook \n",
    "The Jupyter Notebook is an open-source web application that allows to create and share documents that contain live code, equations, visualizations and narrative text. Uses include: data cleaning and transformation, numerical simulation, statistical modeling, data visualization, machine learning, and much more. https://jupyter.org/index.html\n",
    "- Seaborn \n",
    "Seaborn is a library for making statistical graphics in Python. It is built on top of matplotlib and closely integrated with pandas data structures. https://seaborn.pydata.org/\n",
    "\n"
   ]
  },
  {
   "cell_type": "markdown",
   "metadata": {},
   "source": [
    "# Tips dataset format\n",
    "\n",
    "- List contains of a data frame with 244 observations on the following 8 variables.\n",
    "\n",
    "- Tip- \n",
    "     Percentage a numeric vector, the tip written as a percentage (0-100) of the total bill.\n",
    "\n",
    "- Bill-\n",
    "     a numeric vector, the bill amount (dollars) \n",
    "    \n",
    "- Tip-\n",
    "     a numeric vector, the tip amount (dollars)\n",
    "    \n",
    "- Gender-\n",
    "     a factor with levels Female Male, gender of the payer of the bill\n",
    "    \n",
    "- Smoker-\n",
    "     a factor with levels No Yes, whether the party included smokers\n",
    "    \n",
    "- Weekday-\n",
    "    a factor with levels Friday Saturday Sunday Thursday, day of the week\n",
    "    \n",
    "- Time-\n",
    "     a factor with levels Day Night, rough time of day\n",
    "    \n",
    "- Party Size-\n",
    "     a numeric vector, number of people in party\n",
    "    \n",
    "\n",
    "\n"
   ]
  },
  {
   "cell_type": "code",
   "execution_count": null,
   "metadata": {},
   "outputs": [],
   "source": []
  },
  {
   "cell_type": "code",
   "execution_count": null,
   "metadata": {},
   "outputs": [],
   "source": [
    "\n"
   ]
  }
 ],
 "metadata": {
  "kernelspec": {
   "display_name": "Python 3",
   "language": "python",
   "name": "python3"
  },
  "language_info": {
   "codemirror_mode": {
    "name": "ipython",
    "version": 3
   },
   "file_extension": ".py",
   "mimetype": "text/x-python",
   "name": "python",
   "nbconvert_exporter": "python",
   "pygments_lexer": "ipython3",
   "version": "3.7.3"
  }
 },
 "nbformat": 4,
 "nbformat_minor": 2
}
