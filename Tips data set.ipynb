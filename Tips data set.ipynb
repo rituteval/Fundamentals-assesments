{
 "cells": [
  {
   "cell_type": "markdown",
   "metadata": {},
   "source": [
    "   # FDA-Tips Data Set-project\n",
    "\n",
    "10/10/2019 \n",
    " \n",
    "# Objectives: \n",
    "\n",
    "- To analyse Tips Data Set.\n",
    "\n",
    "- To analyze the relationship between the variables within dataset. \n",
    "\n",
    "- Analyze the variables within the dataset.\n",
    "\n",
    "\n",
    "# Tools:\n",
    "\n",
    "- Use and work with Python 3.7. \n",
    "- Jupyter Notebook. Seaborn. \n",
    "- Use  Libraries:\n",
    "  Matplotlib, Pandas:\n",
    "  Matplotlib is a Python 2D plotting library which produces publication quality figures in a variety of hardcopy formats and   interactive environments across platforms.\n",
    "  Matplotlib generates plots, histograms, power spectra, bar charts, errorcharts, scatterplots, etc., with just a few lines of code. \n",
    "   Pandas \n",
    "  Pandas is a Python package providing flexible and expressive data structures designed to make working with “relational” or “labeled” data both easy and intuitive. The two primary data structures of pandas, Series (1-dimensional) and DataFrame (2-dimensional), handle the vast majority of typical use cases in finance, statistics and many areas of engineering.\n",
    "\n",
    "- Jupyter Notebook \n",
    "  The Jupyter Notebook is an open-source web application that allows to create and share documents that contain live code, equations, visualizations and narrative text. Uses include: data cleaning and transformation, numerical simulation, statistical modeling, data visualization, machine learning.\n",
    "\n",
    "- Seaborn \n",
    "  Seaborn is a Python data visualization library based on matplotlib. It provides a high-level interface for drawing attractive and informative statistical graphics. \n",
    "\n"
   ]
  },
  {
   "cell_type": "markdown",
   "metadata": {},
   "source": [
    "# What is Data Set?\n",
    "\n",
    "- As humans, we’re constantly making observations about the world around us. Even infants can observe something, their favorite toys for instance, and infer a set. of characteristics: shape, color, size. By comparing these characteristics we are making inferences about differences and patterns. Science requires us to take these intuitive processes of observation to a deeper level of careful record-keeping and precision. If we want to do this, is need to be by constructing a dataset.  \n",
    "  Scientists collect all sorts of information in all different kinds of ways. One of the most common ways scientists collect information is through the Rectangular Long Form Dataset, for egz.:\n",
    "  1 datum = 1 piece of info.\n",
    "  So it is mean that a dataset is a structured arrangement of datums.   The “something” those bits of information are about is known as the unit of observation. The unit observation is represented by a row in our dataset. For egzample:\n",
    "   In survey research, the unit of observation is typically an individual person interviewed by the researcher. This means a row in the dataset represents one person. But  people are extraordinarily complex. So, we can observe many characteristics about them. Those characteristics can be thought of as variables. Variables are something about the unit of observation with the potential to show variation. For example the examples of variables in a survey - age, gender, race. Consider a variable like age, we give name of variable- age and so one for other variables. So by seeing data as bits of information, knowing that rows represents units of observation, and understanding that columns represent variables about those unit so this is data set.\n",
    "   \n",
    "   \n"
   ]
  },
  {
   "cell_type": "markdown",
   "metadata": {},
   "source": [
    "# Tips dataset format\n",
    "\n",
    "- List contains of a data frame with 244 observations on the following 8 variables.\n",
    "\n",
    "- Tip- \n",
    "     Percentage a numeric vector, the tip written as a percentage (0-100) of the total bill.\n",
    "\n",
    "- Bill-\n",
    "     a numeric vector, the bill amount (dollars) \n",
    "    \n",
    "- Tip-\n",
    "     a numeric vector, the tip amount (dollars)\n",
    "    \n",
    "- Gender-\n",
    "     a factor with levels Female Male, gender of the payer of the bill\n",
    "    \n",
    "- Smoker-\n",
    "     a factor with levels No Yes, whether the party included smokers\n",
    "    \n",
    "- Weekday-\n",
    "    a factor with levels Friday Saturday Sunday Thursday, day of the week\n",
    "    \n",
    "- Time-\n",
    "     a factor with levels Day Night, rough time of day\n",
    "    \n",
    "- Party Size-\n",
    "     a numeric vector, number of people in party\n",
    "    \n",
    "\n",
    "\n"
   ]
  },
  {
   "cell_type": "code",
   "execution_count": null,
   "metadata": {},
   "outputs": [],
   "source": []
  },
  {
   "cell_type": "code",
   "execution_count": null,
   "metadata": {},
   "outputs": [],
   "source": [
    "\n"
   ]
  }
 ],
 "metadata": {
  "kernelspec": {
   "display_name": "Python 3",
   "language": "python",
   "name": "python3"
  },
  "language_info": {
   "codemirror_mode": {
    "name": "ipython",
    "version": 3
   },
   "file_extension": ".py",
   "mimetype": "text/x-python",
   "name": "python",
   "nbconvert_exporter": "python",
   "pygments_lexer": "ipython3",
   "version": "3.7.3"
  }
 },
 "nbformat": 4,
 "nbformat_minor": 2
}
